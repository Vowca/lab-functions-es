{
 "cells": [
  {
   "cell_type": "markdown",
   "metadata": {},
   "source": [
    "# Functions"
   ]
  },
  {
   "cell_type": "markdown",
   "metadata": {},
   "source": [
    "En este laboratorio pondremos en práctica algunos de los conceptos que hemos aprendido en los últimos días.\n",
    "\n",
    "`NOTA: En este laboratorio deberías intentar escribir todas las funciones por ti mismo utilizando solo la sintaxis más básica de Python y sin funciones como len, count, sum, max, min, in, etc. Dale una oportunidad. 🧑🏻‍💻👩🏻‍💻`\n",
    "\n",
    "La celda después de cada ejercicio contiene algunas pruebas para verificar si tu función funciona como se espera."
   ]
  },
  {
   "cell_type": "markdown",
   "metadata": {},
   "source": [
    "## 1. Escribe una función que devuelva el mayor de dos números"
   ]
  },
  {
   "cell_type": "code",
   "execution_count": 4,
   "metadata": {},
   "outputs": [],
   "source": [
    "# Me salia un error diciendo no existe mod.testing al executar \"from mod.testing import *\", asi que he copiado-pegado mod.testing aqui para poder executar las funcions de test\n",
    "\n",
    "\n",
    "import unittest\n",
    "import random\n",
    "from functools import reduce\n",
    "from math import factorial\n",
    "from statistics import stdev, mode\n",
    "from string import ascii_lowercase, ascii_uppercase, digits\n",
    "\n",
    "\n",
    "def test_greater(fn):\n",
    "    class TestKnown(unittest.TestCase):\n",
    "        def __init__(self, input, output):\n",
    "            super(TestKnown, self).__init__()\n",
    "            self.input = input\n",
    "            self.output = output\n",
    "\n",
    "        def runTest(self):\n",
    "            self.assertEqual(fn(*self.input), self.output, f\"Should be {self.output}\")\n",
    "    suite = unittest.TestSuite()\n",
    "    for _ in range(100):\n",
    "        a,b = random.randint(-1000,1000),random.randint(-1000,1000)\n",
    "        suite.addTest(TestKnown([a,b],max([a,b])))\n",
    "    unittest.TextTestRunner().run(suite)\n",
    "\n",
    "def test_greatest(fn):\n",
    "    class TestKnown(unittest.TestCase):\n",
    "        def __init__(self, input, output):\n",
    "            super(TestKnown, self).__init__()\n",
    "            self.input = input\n",
    "            self.output = output\n",
    "\n",
    "        def runTest(self):\n",
    "            self.assertEqual(fn(self.input), self.output, f\"Should be {self.output}\")\n",
    "    suite = unittest.TestSuite()\n",
    "    for _ in range(100):\n",
    "        arr = [random.randint(-1000,1000) for _ in range(random.randint(10,100))]\n",
    "        suite.addTest(TestKnown(arr,max(arr)))\n",
    "    unittest.TextTestRunner().run(suite)\n",
    "\n",
    "def test_sum(fn):\n",
    "    class TestKnown(unittest.TestCase):\n",
    "        def __init__(self, input, output):\n",
    "            super(TestKnown, self).__init__()\n",
    "            self.input = input\n",
    "            self.output = output\n",
    "\n",
    "        def runTest(self):\n",
    "            self.assertEqual(fn(self.input), self.output, f\"Should be {self.output}\")\n",
    "    suite = unittest.TestSuite()\n",
    "    for _ in range(100):\n",
    "        arr = [random.randint(-1000,1000) for _ in range(random.randint(10,100))]\n",
    "        suite.addTest(TestKnown(arr,sum(arr)))\n",
    "    unittest.TextTestRunner().run(suite)\n",
    "\n",
    "\n",
    "def test_mult(fn):\n",
    "    class TestKnown(unittest.TestCase):\n",
    "        def __init__(self, input, output):\n",
    "            super(TestKnown, self).__init__()\n",
    "            self.input = input\n",
    "            self.output = output\n",
    "\n",
    "        def runTest(self):\n",
    "            self.assertEqual(fn(self.input), self.output, f\"Should be {self.output}\")\n",
    "    suite = unittest.TestSuite()\n",
    "    for _ in range(100):\n",
    "        arr = [random.randint(-10,10) for _ in range(random.randint(10,100))]\n",
    "        suite.addTest(TestKnown(arr,reduce(lambda a,b:a*b,arr,1)))\n",
    "    unittest.TextTestRunner().run(suite)\n",
    "\n",
    "def test_operations(fn):\n",
    "    class TestKnown(unittest.TestCase):\n",
    "        def __init__(self, input, output):\n",
    "            super(TestKnown, self).__init__()\n",
    "            self.input = input\n",
    "            self.output = output\n",
    "\n",
    "        def runTest(self):\n",
    "            self.assertEqual(fn(*self.input), self.output, f\"Should be {self.output}\")\n",
    "    suite = unittest.TestSuite()\n",
    "    for _ in range(100):\n",
    "        arr = ([random.randint(-10,10) for _ in range(random.randint(10,100))], random.choice([\"+\",\"*\"]))\n",
    "        def ans(arr,op):\n",
    "            if op ==\"+\": return sum(arr)\n",
    "            else: return reduce(lambda a,b:a*b,arr,1)\n",
    "        suite.addTest(TestKnown(arr,ans(*arr)))\n",
    "    unittest.TextTestRunner().run(suite)\n",
    "\n",
    "def test_factorial(fn):\n",
    "    class TestKnown(unittest.TestCase):\n",
    "        def __init__(self, input, output):\n",
    "            super(TestKnown, self).__init__()\n",
    "            self.input = input\n",
    "            self.output = output\n",
    "\n",
    "        def runTest(self):\n",
    "            self.assertEqual(fn(self.input), self.output, f\"Should be {self.output}\")\n",
    "    suite = unittest.TestSuite()\n",
    "    for _ in range(100):\n",
    "        n = random.randint(1,100)\n",
    "        suite.addTest(TestKnown(n,factorial(n)))\n",
    "    unittest.TextTestRunner().run(suite)\n",
    "\n",
    "\n",
    "def test_unique(fn):\n",
    "    class TestKnown(unittest.TestCase):\n",
    "        def __init__(self, input, output):\n",
    "            super(TestKnown, self).__init__()\n",
    "            self.input = input\n",
    "            self.output = output\n",
    "\n",
    "        def runTest(self):\n",
    "            self.assertEqual(set(fn(self.input)), self.output, f\"Should be {self.output}\")\n",
    "    suite = unittest.TestSuite()\n",
    "    for _ in range(100):\n",
    "        arr = [random.randint(-100,100) for _ in range(random.randint(10,1000))]\n",
    "        suite.addTest(TestKnown(arr,set(arr)))\n",
    "    unittest.TextTestRunner().run(suite)\n",
    "\n",
    "def test_mode(fn):\n",
    "    class TestKnown(unittest.TestCase):\n",
    "        def __init__(self, input, output):\n",
    "            super(TestKnown, self).__init__()\n",
    "            self.input = input\n",
    "            self.output = output\n",
    "\n",
    "        def runTest(self):\n",
    "            self.assertEqual(fn(self.input), self.output, f\"Should be {self.output}\")\n",
    "    suite = unittest.TestSuite()\n",
    "    for _ in range(100):\n",
    "        arr = [random.randint(1,25) for _ in range(random.randint(100,125))] + 50 * [random.randint(1,25)]\n",
    "        suite.addTest(TestKnown(arr,mode(arr)))\n",
    "    unittest.TextTestRunner().run(suite)\n",
    "\n",
    "def test_stdev(fn):\n",
    "    class TestKnown(unittest.TestCase):\n",
    "        def __init__(self, input, output):\n",
    "            super(TestKnown, self).__init__()\n",
    "            self.input = input\n",
    "            self.output = output\n",
    "\n",
    "        def runTest(self):\n",
    "            self.assertAlmostEqual(fn(self.input), self.output, delta=5, msg=f\"Should be {self.output}\")\n",
    "    suite = unittest.TestSuite()\n",
    "    for _ in range(100):\n",
    "        arr = [random.randint(-1000,1000) for _ in range(random.randint(10,100))]\n",
    "        suite.addTest(TestKnown(arr,stdev(arr)))\n",
    "    unittest.TextTestRunner().run(suite)\n",
    "\n",
    "pangrams = [\"Waltz, nymph, for quick jigs vex Bud.\",\n",
    "\"Sphinx of black quartz, judge my vow.\",\n",
    "\"Pack my box with five dozen liquor jugs.\",\n",
    "\"Glib jocks quiz nymph to vex dwarf.\",\n",
    "\"Jackdaws love my big sphinx of quartz.\",\n",
    "\"The five boxing wizards jump quickly.\",\n",
    "\"How vexingly quick daft zebras jump!\",\n",
    "\"Quick zephyrs blow, vexing daft Jim.\",\n",
    "\"Two driven jocks help fax my big quiz.\",\n",
    "\"The jay, pig, fox, zebra and my wolves quack!\",\n",
    "\"Sympathizing would fix Quaker objectives.\",\n",
    "\"A wizard's job is to vex chumps quickly in fog.\",\n",
    "\"Watch 'Jeopardy!', Alex Trebek's fun TV quiz game.\",\n",
    "\"By Jove, my quick study of lexicography won a prize!\",\n",
    "\"Waxy and quivering, jocks fumble the pizza.\"]\n",
    "\n",
    "def test_pangram(fn):\n",
    "    class TestKnown(unittest.TestCase):\n",
    "        def __init__(self, input, output):\n",
    "            super(TestKnown, self).__init__()\n",
    "            self.input = input\n",
    "            self.output = output\n",
    "        def runTest(self):\n",
    "            self.assertEqual(fn(self.input), self.output, f\"Should be {self.output}\")\n",
    "    suite = unittest.TestSuite()\n",
    "    tests = pangrams + [\"\".join([random.choice(ascii_lowercase) for _ in range(random.randint(25,100))]) for _ in range(15)] \n",
    "    for test in tests:\n",
    "        suite.addTest(TestKnown(test,set(ascii_lowercase).issubset(set(test.lower()))))\n",
    "    unittest.TextTestRunner().run(suite)\n",
    "\n",
    "def test_alpha(fn):\n",
    "    class TestKnown(unittest.TestCase):\n",
    "        def __init__(self, input, output):\n",
    "            super(TestKnown, self).__init__()\n",
    "            self.input = input\n",
    "            self.output = output\n",
    "\n",
    "        def runTest(self):\n",
    "            self.assertEqual(fn(self.input), self.output, f\"Should be {self.output}\")\n",
    "    suite = unittest.TestSuite()\n",
    "    tests = [\",\".join([\"\".join([random.choice(ascii_lowercase) for _ in range(random.randint(4,10))]) for _ in range(random.randint(4,25))]) for _ in range(100)] \n",
    "    for test in tests:\n",
    "        suite.addTest(TestKnown(test,\",\".join(sorted(test.split(\",\")))))\n",
    "    unittest.TextTestRunner().run(suite)\n",
    "\n",
    "def test_pass(fn):\n",
    "    class TestKnown(unittest.TestCase):\n",
    "        def __init__(self, input, output):\n",
    "            super(TestKnown, self).__init__()\n",
    "            self.input = input\n",
    "            self.output = output\n",
    "            \n",
    "        def runTest(self):\n",
    "            self.assertEqual(fn(self.input), self.output, f\"Should be {self.output}\")\n",
    "    suite = unittest.TestSuite()\n",
    "    check_p = lambda string: sum([len(set(string)&set(c))>0 for c in [ascii_lowercase, ascii_uppercase, digits, \"#@!$%&()^*[]{}\"]] + [len(string) >= 8]) >= 5\n",
    "    tests = [\"\".join([random.choice(ascii_lowercase*3+ascii_uppercase+digits+\"#@!$%&()^*[]{}\") for _ in range(random.randint(2,16))]) for _ in range(100)] \n",
    "    for test in tests:\n",
    "        suite.addTest(TestKnown(test,check_p(test)))\n",
    "    unittest.TextTestRunner().run(suite)"
   ]
  },
  {
   "cell_type": "code",
   "execution_count": 5,
   "metadata": {},
   "outputs": [],
   "source": [
    "import unittest"
   ]
  },
  {
   "cell_type": "code",
   "execution_count": null,
   "metadata": {},
   "outputs": [],
   "source": []
  },
  {
   "cell_type": "code",
   "execution_count": 11,
   "metadata": {},
   "outputs": [
    {
     "name": "stdout",
     "output_type": "stream",
     "text": [
      "10\n"
     ]
    }
   ],
   "source": [
    "def greater(a,b):\n",
    "    return a if a > b else b # If a is greater than b, return a, if not, return b\n",
    "\n",
    "# Ejemplo de uso\n",
    "print(greater(5, 10))  # Salida: 10"
   ]
  },
  {
   "cell_type": "code",
   "execution_count": 12,
   "metadata": {},
   "outputs": [
    {
     "name": "stderr",
     "output_type": "stream",
     "text": [
      "....................................................................................................\n",
      "----------------------------------------------------------------------\n",
      "Ran 100 tests in 0.110s\n",
      "\n",
      "OK\n"
     ]
    }
   ],
   "source": [
    "# Para testear tu función\n",
    "test_greater(greater)"
   ]
  },
  {
   "cell_type": "raw",
   "metadata": {},
   "source": [
    "## 2. Ahora escribe una función que devuelva el elemento más grande de una lista"
   ]
  },
  {
   "cell_type": "code",
   "execution_count": 15,
   "metadata": {},
   "outputs": [],
   "source": [
    "def greatest(numbers):\n",
    "    largest = numbers[0]  # Assume the first element is the largest\n",
    "    for num in numbers[1:]:  # Iterate through the rest, it loops through the list, updating largest if a bigger number is found.\n",
    "        if num > largest:\n",
    "            largest = num\n",
    "    return largest"
   ]
  },
  {
   "cell_type": "code",
   "execution_count": 16,
   "metadata": {},
   "outputs": [
    {
     "name": "stderr",
     "output_type": "stream",
     "text": [
      "....................................................................................................\n",
      "----------------------------------------------------------------------\n",
      "Ran 100 tests in 0.103s\n",
      "\n",
      "OK\n"
     ]
    }
   ],
   "source": [
    "# Para testear tu función\n",
    "test_greatest(greatest)"
   ]
  },
  {
   "cell_type": "markdown",
   "metadata": {},
   "source": [
    "## 3. Escribe una función que sume todos los elementos de una lista"
   ]
  },
  {
   "cell_type": "code",
   "execution_count": 17,
   "metadata": {},
   "outputs": [
    {
     "name": "stdout",
     "output_type": "stream",
     "text": [
      "15\n",
      "11\n",
      "0\n"
     ]
    }
   ],
   "source": [
    "def sum_all(lst):\n",
    "    total = 0  # Inicializamos la suma en 0\n",
    "    for num in lst:  # Recorremos la lista\n",
    "        total += num  # Sumamos cada número al total\n",
    "    return total  # Devolvemos la suma total\n",
    "\n",
    "# Ejemplo de uso\n",
    "print(sum_all([1, 2, 3, 4, 5]))  # Salida: 15\n",
    "print(sum_all([-1, 10, -3, 5]))  # Salida: 11\n",
    "print(sum_all([]))  # Salida: 0 (caso de lista vacía)"
   ]
  },
  {
   "cell_type": "code",
   "execution_count": 18,
   "metadata": {
    "scrolled": true
   },
   "outputs": [
    {
     "name": "stderr",
     "output_type": "stream",
     "text": [
      "....................................................................................................\n",
      "----------------------------------------------------------------------\n",
      "Ran 100 tests in 0.103s\n",
      "\n",
      "OK\n"
     ]
    }
   ],
   "source": [
    "# Para testear tu función\n",
    "test_sum(sum_all)"
   ]
  },
  {
   "cell_type": "markdown",
   "metadata": {},
   "source": [
    "## 4. Escribe otra función que multiplique todos los elementos de una lista"
   ]
  },
  {
   "cell_type": "code",
   "execution_count": 19,
   "metadata": {},
   "outputs": [
    {
     "name": "stdout",
     "output_type": "stream",
     "text": [
      "120\n",
      "150\n",
      "1\n",
      "7\n"
     ]
    }
   ],
   "source": [
    "def mult_all(lst):\n",
    "    if not lst:  # Si la lista está vacía, devolvemos 1 (neutro multiplicativo)\n",
    "        return 1\n",
    "    product = 1  # Inicializamos el producto en 1\n",
    "    for num in lst:  # Recorremos la lista\n",
    "        product *= num  # Multiplicamos cada número al producto acumulado\n",
    "    return product  # Devolvemos el producto total\n",
    "\n",
    "# Ejemplo de uso\n",
    "print(mult_all([1, 2, 3, 4, 5]))  # Salida: 120\n",
    "print(mult_all([-1, 10, -3, 5]))  # Salida: 150\n",
    "print(mult_all([]))  # Salida: 1 (caso de lista vacía)\n",
    "print(mult_all([7]))  # Salida: 7 (caso de un solo elemento)"
   ]
  },
  {
   "cell_type": "code",
   "execution_count": 20,
   "metadata": {
    "scrolled": true
   },
   "outputs": [
    {
     "name": "stderr",
     "output_type": "stream",
     "text": [
      "....................................................................................................\n",
      "----------------------------------------------------------------------\n",
      "Ran 100 tests in 0.172s\n",
      "\n",
      "OK\n"
     ]
    }
   ],
   "source": [
    "# Para testear tu función\n",
    "test_mult(mult_all)"
   ]
  },
  {
   "cell_type": "markdown",
   "metadata": {},
   "source": [
    "## 5. Ahora combina esas dos ideas y escribe una función que reciba una lista y ya sea \"+\" o \"*\", y produzca el resultado acorde"
   ]
  },
  {
   "cell_type": "code",
   "execution_count": 21,
   "metadata": {},
   "outputs": [],
   "source": [
    "def oper_all(numbers, oper=\"+\"):\n",
    "    if not numbers:  # Si la lista está vacía\n",
    "        return 0 if oper == \"+\" else 1\n",
    "\n",
    "    if oper == \"+\":\n",
    "        result = 0  # Inicializamos la suma\n",
    "        for num in numbers:\n",
    "            result += num  # Sumamos los elementos\n",
    "    elif oper == \"*\":\n",
    "        result = 1  # Inicializamos el producto\n",
    "        for num in numbers:\n",
    "            result *= num  # Multiplicamos los elementos\n",
    "    else:\n",
    "        raise ValueError(\"Operación no válida. Usa '+' o '*'\")  # Si la operación no es válida\n",
    "\n",
    "    return result  # Devolvemos el resultado"
   ]
  },
  {
   "cell_type": "code",
   "execution_count": 22,
   "metadata": {},
   "outputs": [
    {
     "name": "stderr",
     "output_type": "stream",
     "text": [
      "....................................................................................................\n",
      "----------------------------------------------------------------------\n",
      "Ran 100 tests in 0.174s\n",
      "\n",
      "OK\n"
     ]
    }
   ],
   "source": [
    "# Para testear tu función\n",
    "test_operations(oper_all)"
   ]
  },
  {
   "cell_type": "markdown",
   "metadata": {},
   "source": [
    "## 6. Escribe una función que devuelva el factorial de un número."
   ]
  },
  {
   "cell_type": "code",
   "execution_count": 6,
   "metadata": {},
   "outputs": [
    {
     "name": "stdout",
     "output_type": "stream",
     "text": [
      "120\n",
      "1\n",
      "1\n",
      "720\n"
     ]
    }
   ],
   "source": [
    "def factorial(n):\n",
    "    if n < 0:\n",
    "        raise ValueError(\"El factorial no está definido para números negativos.\")\n",
    "    \n",
    "    result = 1  # Inicializamos el factorial en 1\n",
    "    for i in range(1, n + 1):  # Iteramos desde 1 hasta n\n",
    "        result *= i  # Multiplicamos cada número al resultado\n",
    "    \n",
    "    return result  # Devolvemos el resultado final\n",
    "\n",
    "# Ejemplo de uso\n",
    "print(factorial(5))  # Salida: 120 (5! = 5*4*3*2*1)\n",
    "print(factorial(0))  # Salida: 1 (0! = 1)\n",
    "print(factorial(1))  # Salida: 1 (1! = 1)\n",
    "print(factorial(6))  # Salida: 720 (6! = 6*5*4*3*2*1)"
   ]
  },
  {
   "cell_type": "code",
   "execution_count": 7,
   "metadata": {},
   "outputs": [],
   "source": [
    "# Fórmula factorial\n",
    "# n! = n * (n - 1) *...*1\n",
    "\n",
    "# Este código define una función llamada \"factorial\" que toma una entrada \"n\". La función utiliza un bucle for para iterar a través del rango de números\n",
    "# desde 1 hasta n+1. Para cada número en ese rango, multiplica el valor actual de x por el número en el rango. Al final del bucle,\n",
    "# la función devuelve el valor final de x, que será el factorial del número de entrada \"n\".\n",
    "\n",
    "# El factorial de un entero positivo n es el producto de todos los enteros positivos menores o iguales a n.\n",
    "# Por ejemplo, el factorial de 6 (escrito \"6!\") es 6 * 5 * 4 * 3 * 2 * 1 = 720.\n",
    "\n",
    "# Así que esta función toma una entrada de cualquier entero positivo y devuelve el factorial de ese número."
   ]
  },
  {
   "cell_type": "code",
   "execution_count": 8,
   "metadata": {},
   "outputs": [
    {
     "name": "stderr",
     "output_type": "stream",
     "text": [
      "....................................................................................................\n",
      "----------------------------------------------------------------------\n",
      "Ran 100 tests in 0.100s\n",
      "\n",
      "OK\n"
     ]
    }
   ],
   "source": [
    "# This will test your function \n",
    "test_factorial(factorial)"
   ]
  },
  {
   "cell_type": "markdown",
   "metadata": {},
   "source": [
    "## 7. Escribe una función que tome una lista y devuelva una lista de los valores únicos.\n",
    "\n",
    "`NOTE: No podemos usar set. 🤔`"
   ]
  },
  {
   "cell_type": "code",
   "execution_count": 9,
   "metadata": {},
   "outputs": [
    {
     "name": "stdout",
     "output_type": "stream",
     "text": [
      "[1, 2, 3, 4, 5]\n",
      "[7]\n",
      "[10, 20, 30, 40]\n",
      "[]\n"
     ]
    }
   ],
   "source": [
    "def unique(lst_un):\n",
    "    unique_list = []  # Lista vacía para almacenar los valores únicos\n",
    "    for item in lst_un:  \n",
    "        if item not in unique_list:  # Solo agregamos si no está ya en unique_list\n",
    "            unique_list.append(item)\n",
    "    return unique_list  # Retornamos la lista con valores únicos\n",
    "\n",
    "# Ejemplo de uso\n",
    "print(unique([1, 2, 2, 3, 4, 4, 5]))  # Salida: [1, 2, 3, 4, 5]\n",
    "print(unique([7, 7, 7, 7]))  # Salida: [7]\n",
    "print(unique([10, 20, 30, 10, 20, 40]))  # Salida: [10, 20, 30, 40]\n",
    "print(unique([]))  # Salida: []"
   ]
  },
  {
   "cell_type": "code",
   "execution_count": 10,
   "metadata": {},
   "outputs": [
    {
     "name": "stderr",
     "output_type": "stream",
     "text": [
      "....................................................................................................\n",
      "----------------------------------------------------------------------\n",
      "Ran 100 tests in 0.215s\n",
      "\n",
      "OK\n"
     ]
    }
   ],
   "source": [
    "# Para testear tu función \n",
    "test_unique(unique)"
   ]
  },
  {
   "cell_type": "markdown",
   "metadata": {},
   "source": [
    "## 8. Escribe una función que devuelva la moda de una lista, es decir: el elemento que aparece más veces.\n",
    "\n",
    "`NOTE: No se debe usar count... 🧐`"
   ]
  },
  {
   "cell_type": "code",
   "execution_count": 11,
   "metadata": {},
   "outputs": [],
   "source": [
    "def mode_counter(arr):\n",
    "    frequency = {}  # Diccionario para contar las apariciones de cada número\n",
    "    \n",
    "    # Contamos la frecuencia de cada elemento en la lista\n",
    "    for num in arr:\n",
    "        if num in frequency:\n",
    "            frequency[num] += 1  # Si ya está en el diccionario, aumentamos el contador\n",
    "        else:\n",
    "            frequency[num] = 1  # Si no está, lo inicializamos en 1\n",
    "    \n",
    "    # Encontramos la moda (el número con mayor frecuencia)\n",
    "    max_freq = 0\n",
    "    mode = None\n",
    "    \n",
    "    for num, freq in frequency.items():\n",
    "        if freq > max_freq:\n",
    "            max_freq = freq\n",
    "            mode = num\n",
    "    \n",
    "    return mode  # Retornamos el número más frecuente"
   ]
  },
  {
   "cell_type": "code",
   "execution_count": 12,
   "metadata": {},
   "outputs": [
    {
     "name": "stderr",
     "output_type": "stream",
     "text": [
      "....................................................................................................\n",
      "----------------------------------------------------------------------\n",
      "Ran 100 tests in 0.092s\n",
      "\n",
      "OK\n"
     ]
    }
   ],
   "source": [
    "# Para testear tu función \n",
    "test_mode(mode_counter)"
   ]
  },
  {
   "cell_type": "markdown",
   "metadata": {},
   "source": [
    "## 9. Escribe una función que calcule la desviación estándar de una lista.\n",
    "`NOTE: no utilices librerías ni ninguna función ya construida. 😉`"
   ]
  },
  {
   "cell_type": "code",
   "execution_count": 15,
   "metadata": {},
   "outputs": [],
   "source": [
    "# variance = sum_squared_diff / (n - 1).\n",
    "def st_dev(list_sd):\n",
    "    # Paso 1: Calcular la media\n",
    "    sum_values = 0\n",
    "    n = 0  # Contador de elementos\n",
    "    for num in list_sd:\n",
    "        sum_values += num\n",
    "        n += 1\n",
    "\n",
    "    if n < 2:  # La desviación estándar muestral necesita al menos 2 datos\n",
    "        raise ValueError(\"La lista debe tener al menos 2 elementos.\")\n",
    "\n",
    "    mean = sum_values / n  # Promedio de los valores\n",
    "\n",
    "    # Paso 2: Calcular la suma de las diferencias al cuadrado\n",
    "    sum_squared_diff = 0\n",
    "    for num in list_sd:\n",
    "        sum_squared_diff += (num - mean) ** 2\n",
    "\n",
    "    # Paso 3: Dividir entre (n-1) y calcular la raíz cuadrada\n",
    "    variance = sum_squared_diff / (n - 1)  # Fórmula muestral (n-1)\n",
    "    std_dev = variance ** 0.5  # Raíz cuadrada\n",
    "\n",
    "    return std_dev\n",
    "\n",
    "    "
   ]
  },
  {
   "cell_type": "code",
   "execution_count": 16,
   "metadata": {},
   "outputs": [
    {
     "name": "stderr",
     "output_type": "stream",
     "text": [
      "....................................................................................................\n",
      "----------------------------------------------------------------------\n",
      "Ran 100 tests in 0.124s\n",
      "\n",
      "OK\n"
     ]
    }
   ],
   "source": [
    "# Para testear tu función\n",
    "test_stdev(st_dev)"
   ]
  },
  {
   "cell_type": "markdown",
   "metadata": {},
   "source": [
    "## 10. Escribe una función para verificar si una cadena es un pangrama, es decir: si contiene todas las letras del alfabeto al menos una vez. Ten en cuenta que las cadenas pueden contener caracteres que no son letras."
   ]
  },
  {
   "cell_type": "code",
   "execution_count": 17,
   "metadata": {},
   "outputs": [],
   "source": [
    "def pangram(string):\n",
    "    alphabet = \"abcdefghijklmnopqrstuvwxyz\"\n",
    "    found_letters = []  # Lista para almacenar las letras encontradas\n",
    "    \n",
    "    for char in string.lower():  # Convertimos todo a minúsculas\n",
    "        if 'a' <= char <= 'z' and char not in found_letters:  # Solo letras, sin duplicados\n",
    "            found_letters.append(char)\n",
    "    \n",
    "    return len(found_letters) == 26  # Verificamos si tenemos todas las letras"
   ]
  },
  {
   "cell_type": "code",
   "execution_count": 18,
   "metadata": {},
   "outputs": [
    {
     "name": "stderr",
     "output_type": "stream",
     "text": [
      "..............................\n",
      "----------------------------------------------------------------------\n",
      "Ran 30 tests in 0.030s\n",
      "\n",
      "OK\n"
     ]
    }
   ],
   "source": [
    "# Para testear tu función\n",
    "test_pangram(pangram)"
   ]
  },
  {
   "cell_type": "markdown",
   "metadata": {},
   "source": [
    "## 11. Escribe una función que reciba una cadena de palabras separadas por comas y devuelva una cadena de palabras separadas por comas ordenadas alfabéticamente.\n",
    "\n",
    "`NOTA: Puedes usar sorted pero no split y definitivamente no join! 🤪`"
   ]
  },
  {
   "cell_type": "code",
   "execution_count": 19,
   "metadata": {},
   "outputs": [],
   "source": [
    "def sort_alpha(string):\n",
    "    # Paso 1: Separar las palabras manualmente\n",
    "    words = []\n",
    "    current_word = \"\"\n",
    "    \n",
    "    for char in string:\n",
    "        if char == \",\":  # Cuando encontramos una coma, añadimos la palabra\n",
    "            if current_word:\n",
    "                words.append(current_word)\n",
    "            current_word = \"\"  # Reseteamos la palabra actual\n",
    "        else:\n",
    "            current_word += char  # Construimos la palabra\n",
    "    # Añadimos la última palabra (si existe)\n",
    "    if current_word:\n",
    "        words.append(current_word)\n",
    "    \n",
    "    # Paso 2: Ordenar las palabras alfabéticamente\n",
    "    sorted_words = sorted(words)\n",
    "    \n",
    "    # Paso 3: Construir la cadena final manualmente\n",
    "    result = \"\"\n",
    "    for word in sorted_words:\n",
    "        if result:\n",
    "            result += \",\"  # Añadimos la coma entre palabras\n",
    "        result += word\n",
    "    \n",
    "    return result\n"
   ]
  },
  {
   "cell_type": "code",
   "execution_count": 20,
   "metadata": {},
   "outputs": [
    {
     "name": "stderr",
     "output_type": "stream",
     "text": [
      "....................................................................................................\n",
      "----------------------------------------------------------------------\n",
      "Ran 100 tests in 0.099s\n",
      "\n",
      "OK\n"
     ]
    }
   ],
   "source": [
    "# Para testear tu función \n",
    "test_alpha(sort_alpha)"
   ]
  },
  {
   "cell_type": "markdown",
   "metadata": {},
   "source": [
    "## 12. Escribe una función para verificar si una contraseña dada es fuerte (al menos 8 caracteres, al menos una minúscula, al menos una mayúscula, al menos un número y al menos un carácter especial). Debería devolver True si es fuerte y False si no lo es."
   ]
  },
  {
   "cell_type": "code",
   "execution_count": 21,
   "metadata": {},
   "outputs": [],
   "source": [
    "def check_pass(password):\n",
    "    # Verificar longitud mínima\n",
    "    if len(password) < 8:\n",
    "        return False\n",
    "    \n",
    "    # Inicializamos banderas\n",
    "    has_lower = False\n",
    "    has_upper = False\n",
    "    has_digit = False\n",
    "    has_special = False\n",
    "    \n",
    "    # Definir caracteres especiales\n",
    "    special_chars = \"!@#$%^&*()-_=+[]{}|;:,.<>?/`~\"\n",
    "    \n",
    "    # Comprobar cada carácter\n",
    "    for char in password:\n",
    "        if char.islower():\n",
    "            has_lower = True\n",
    "        elif char.isupper():\n",
    "            has_upper = True\n",
    "        elif char.isdigit():\n",
    "            has_digit = True\n",
    "        elif char in special_chars:\n",
    "            has_special = True\n",
    "    \n",
    "    # Verificar que todos los requisitos sean True\n",
    "    if has_lower and has_upper and has_digit and has_special:\n",
    "        return True\n",
    "    else:\n",
    "        return False\n"
   ]
  },
  {
   "cell_type": "code",
   "execution_count": 22,
   "metadata": {},
   "outputs": [
    {
     "name": "stderr",
     "output_type": "stream",
     "text": [
      "....................................................................................................\n",
      "----------------------------------------------------------------------\n",
      "Ran 100 tests in 0.079s\n",
      "\n",
      "OK\n"
     ]
    }
   ],
   "source": [
    "# Para testear tu función\n",
    "test_pass(check_pass)"
   ]
  },
  {
   "cell_type": "code",
   "execution_count": null,
   "metadata": {},
   "outputs": [],
   "source": []
  }
 ],
 "metadata": {
  "kernelspec": {
   "display_name": "Python 3 (ipykernel)",
   "language": "python",
   "name": "python3"
  },
  "language_info": {
   "codemirror_mode": {
    "name": "ipython",
    "version": 3
   },
   "file_extension": ".py",
   "mimetype": "text/x-python",
   "name": "python",
   "nbconvert_exporter": "python",
   "pygments_lexer": "ipython3",
   "version": "3.12.8"
  },
  "vscode": {
   "interpreter": {
    "hash": "aee8b7b246df8f9039afb4144a1f6fd8d2ca17a180786b69acc140d282b71a49"
   }
  }
 },
 "nbformat": 4,
 "nbformat_minor": 4
}
